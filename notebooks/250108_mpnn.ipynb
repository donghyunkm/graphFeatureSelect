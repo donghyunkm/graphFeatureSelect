{
 "cells": [
  {
   "cell_type": "code",
   "execution_count": 12,
   "metadata": {},
   "outputs": [
    {
     "name": "stdout",
     "output_type": "stream",
     "text": [
      "The autoreload extension is already loaded. To reload it, use:\n",
      "  %reload_ext autoreload\n"
     ]
    }
   ],
   "source": [
    "%load_ext autoreload\n",
    "%autoreload 2"
   ]
  },
  {
   "cell_type": "code",
   "execution_count": 13,
   "metadata": {},
   "outputs": [],
   "source": [
    "from graphFeatureSelect.MPNN import MPNNs"
   ]
  },
  {
   "cell_type": "code",
   "execution_count": 14,
   "metadata": {},
   "outputs": [],
   "source": [
    "in_channels = 550\n",
    "hidden_channels = 32\n",
    "out_channels = 20"
   ]
  },
  {
   "cell_type": "code",
   "execution_count": 16,
   "metadata": {},
   "outputs": [],
   "source": [
    "model = MPNNs(\n",
    "    in_channels,\n",
    "    hidden_channels,\n",
    "    out_channels,\n",
    "    local_layers=2,\n",
    "    dropout=0.5,\n",
    "    heads=1,\n",
    "    pre_linear=True,\n",
    "    res=True,\n",
    "    ln=True,\n",
    "    bn=False,\n",
    "    jk=True,\n",
    "    gnn=\"gat\",\n",
    ")\n",
    "# remove pre_ln?"
   ]
  },
  {
   "cell_type": "code",
   "execution_count": 17,
   "metadata": {},
   "outputs": [
    {
     "name": "stdout",
     "output_type": "stream",
     "text": [
      "MPNNs(\n",
      "  (h_lins): ModuleList()\n",
      "  (local_convs): ModuleList(\n",
      "    (0-1): 2 x GATConv(32, 32, heads=1)\n",
      "  )\n",
      "  (lins): ModuleList(\n",
      "    (0-1): 2 x Linear(in_features=32, out_features=32, bias=True)\n",
      "  )\n",
      "  (lns): ModuleList(\n",
      "    (0-1): 2 x LayerNorm((32,), eps=1e-05, elementwise_affine=True)\n",
      "  )\n",
      "  (bns): ModuleList(\n",
      "    (0-1): 2 x BatchNorm1d(32, eps=1e-05, momentum=0.1, affine=True, track_running_stats=True)\n",
      "  )\n",
      "  (lin_in): Linear(in_features=550, out_features=32, bias=True)\n",
      "  (pred_local): Linear(in_features=32, out_features=20, bias=True)\n",
      ")\n"
     ]
    }
   ],
   "source": [
    "print(model)"
   ]
  },
  {
   "cell_type": "code",
   "execution_count": 6,
   "metadata": {},
   "outputs": [
    {
     "data": {
      "text/plain": [
       "ModuleList()"
      ]
     },
     "execution_count": 6,
     "metadata": {},
     "output_type": "execute_result"
    }
   ],
   "source": [
    "model.h_lins"
   ]
  },
  {
   "cell_type": "code",
   "execution_count": null,
   "metadata": {},
   "outputs": [],
   "source": []
  }
 ],
 "metadata": {
  "kernelspec": {
   "display_name": "allen2",
   "language": "python",
   "name": "python3"
  },
  "language_info": {
   "codemirror_mode": {
    "name": "ipython",
    "version": 3
   },
   "file_extension": ".py",
   "mimetype": "text/x-python",
   "name": "python",
   "nbconvert_exporter": "python",
   "pygments_lexer": "ipython3",
   "version": "3.9.21"
  }
 },
 "nbformat": 4,
 "nbformat_minor": 2
}
