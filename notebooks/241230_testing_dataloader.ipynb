{
 "cells": [
  {
   "cell_type": "code",
   "execution_count": 1,
   "metadata": {},
   "outputs": [],
   "source": [
    "%reload_ext autoreload\n",
    "%autoreload 2"
   ]
  },
  {
   "cell_type": "code",
   "execution_count": 2,
   "metadata": {},
   "outputs": [],
   "source": [
    "import lightning as L\n",
    "from lightning.pytorch.callbacks import ModelCheckpoint\n",
    "from lightning.pytorch.loggers import TensorBoardLogger\n",
    "\n",
    "from graphFeatureSelect.datamodule import AnnDataGraphDataModule\n",
    "from graphFeatureSelect.utils import get_datetime, get_paths\n",
    "import numpy as np\n",
    "import random\n",
    "import torch\n",
    "\n",
    "def setup_seeds(seed):\n",
    "    random.seed(seed)\n",
    "    np.random.seed(seed)\n",
    "    torch.manual_seed(seed)\n",
    "    torch.cuda.manual_seed_all(seed)\n",
    "    torch.backends.cudnn.deterministic = True\n",
    "    torch.backends.cudnn.benchmark = False\n",
    "\n",
    "\n",
    "seed = 42\n",
    "setup_seeds(seed)\n",
    "# data parameters, we'll eventually obtain this from the data. \n",
    "n_genes = 500\n",
    "n_labels = 126\n",
    "\n",
    "# paths\n",
    "paths = get_paths()\n",
    "\n"
   ]
  },
  {
   "cell_type": "code",
   "execution_count": 3,
   "metadata": {},
   "outputs": [
    {
     "data": {
      "text/plain": [
       "array([1, 2, 3])"
      ]
     },
     "execution_count": 3,
     "metadata": {},
     "output_type": "execute_result"
    }
   ],
   "source": [
    "import numpy as np\n",
    "np.array([1,2,3])"
   ]
  },
  {
   "cell_type": "code",
   "execution_count": 4,
   "metadata": {},
   "outputs": [],
   "source": [
    "\n",
    "# data, model and fitting\n",
    "datamodule = AnnDataGraphDataModule(data_dir=paths[\"data_root\"], file_names=[\"VISp_nhood.h5ad\"], batch_size=1)\n"
   ]
  },
  {
   "cell_type": "code",
   "execution_count": 5,
   "metadata": {},
   "outputs": [],
   "source": [
    "datamodule.setup()"
   ]
  },
  {
   "cell_type": "code",
   "execution_count": 6,
   "metadata": {},
   "outputs": [
    {
     "data": {
      "text/plain": [
       "Data(x=[61884, 500], edge_index=[2, 1949970], labels=[61884], train_mask=[61884], val_mask=[61884], test_mask=[61884])"
      ]
     },
     "execution_count": 6,
     "metadata": {},
     "output_type": "execute_result"
    }
   ],
   "source": [
    "datamodule.data"
   ]
  },
  {
   "cell_type": "code",
   "execution_count": 7,
   "metadata": {},
   "outputs": [
    {
     "name": "stderr",
     "output_type": "stream",
     "text": [
      "/data/users1/dkim195/miniconda3/envs/allen2/lib/python3.9/site-packages/torch_geometric/sampler/neighbor_sampler.py:55: UserWarning: The usage of the 'directed' argument in 'NeighborSampler' is deprecated. Use `subgraph_type='induced'` instead.\n",
      "  warnings.warn(f\"The usage of the 'directed' argument in \"\n",
      "/data/users1/dkim195/miniconda3/envs/allen2/lib/python3.9/site-packages/torch/utils/data/dataloader.py:557: UserWarning: This DataLoader will create 16 worker processes in total. Our suggested max number of worker in current system is 12, which is smaller than what this DataLoader is going to create. Please be aware that excessive worker creation might get DataLoader running slow or even freeze, lower the worker number to avoid potential slowness/freeze if necessary.\n",
      "  warnings.warn(_create_warning_msg(\n"
     ]
    }
   ],
   "source": [
    "train_loader = datamodule.train_dataloader()"
   ]
  },
  {
   "cell_type": "code",
   "execution_count": 8,
   "metadata": {},
   "outputs": [],
   "source": [
    "batch = next(iter(train_loader))"
   ]
  },
  {
   "cell_type": "code",
   "execution_count": 9,
   "metadata": {},
   "outputs": [
    {
     "data": {
      "text/plain": [
       "Data(x=[267, 500], edge_index=[2, 5237], labels=[267], train_mask=[267], val_mask=[267], test_mask=[267], n_id=[267], e_id=[5237], input_id=[1], batch_size=1)"
      ]
     },
     "execution_count": 9,
     "metadata": {},
     "output_type": "execute_result"
    }
   ],
   "source": [
    "batch"
   ]
  },
  {
   "cell_type": "code",
   "execution_count": 10,
   "metadata": {},
   "outputs": [],
   "source": [
    "from graphFeatureSelect.models import GAT"
   ]
  },
  {
   "cell_type": "code",
   "execution_count": 11,
   "metadata": {},
   "outputs": [],
   "source": [
    "model = GAT(hidden_channels=32, num_features = 500, num_classes=126)"
   ]
  },
  {
   "cell_type": "code",
   "execution_count": 14,
   "metadata": {},
   "outputs": [],
   "source": [
    "data = batch\n",
    "gene_exp = data.x\n",
    "edgelist = data.edge_index\n",
    "celltype = data.labels\n",
    "gene_exp = gene_exp.float()\n"
   ]
  },
  {
   "cell_type": "code",
   "execution_count": 15,
   "metadata": {},
   "outputs": [
    {
     "data": {
      "text/plain": [
       "tensor([[ 0.3697,  0.7600, -0.4773,  ..., -0.2104, -0.8952, -0.2712],\n",
       "        [-0.0720,  0.5445, -0.8735,  ..., -0.3121, -1.0241,  0.0154],\n",
       "        [ 0.4845,  0.3228, -0.7457,  ...,  0.2163, -1.4714, -0.4191],\n",
       "        ...,\n",
       "        [ 0.6444,  0.4359, -0.6680,  ..., -0.2457, -0.9161,  0.0059],\n",
       "        [ 1.0631,  0.1950, -0.2538,  ...,  0.3416, -0.8997, -0.0147],\n",
       "        [ 0.9191, -0.1468, -0.4413,  ...,  0.1666, -0.4205,  0.0287]],\n",
       "       grad_fn=<AddBackward0>)"
      ]
     },
     "execution_count": 15,
     "metadata": {},
     "output_type": "execute_result"
    }
   ],
   "source": [
    "model(gene_exp, edgelist)"
   ]
  },
  {
   "cell_type": "code",
   "execution_count": null,
   "metadata": {},
   "outputs": [],
   "source": [
    "csr = datamodule.data.edge_index\n",
    "coo_matrix = csr.tocoo()\n",
    "values = coo_matrix.data\n",
    "indices = np.vstack((coo_matrix.row, coo_matrix.col))\n",
    "indices = torch.LongTensor(indices)\n",
    "values = torch.FloatTensor(values)\n",
    "shape = coo_matrix.shape\n",
    "sparse_tensor = torch.sparse_coo_tensor(indices, values, torch.Size(shape))\n",
    "edge_index = sparse_tensor._indices()\n"
   ]
  },
  {
   "cell_type": "code",
   "execution_count": 49,
   "metadata": {},
   "outputs": [],
   "source": []
  },
  {
   "cell_type": "code",
   "execution_count": null,
   "metadata": {},
   "outputs": [],
   "source": [
    "edge_index"
   ]
  },
  {
   "cell_type": "code",
   "execution_count": null,
   "metadata": {},
   "outputs": [],
   "source": [
    "datafull.celltypes()[2131]"
   ]
  },
  {
   "cell_type": "code",
   "execution_count": null,
   "metadata": {},
   "outputs": [],
   "source": [
    "datafull[0][0]"
   ]
  },
  {
   "cell_type": "code",
   "execution_count": null,
   "metadata": {},
   "outputs": [],
   "source": []
  }
 ],
 "metadata": {
  "kernelspec": {
   "display_name": "allen2",
   "language": "python",
   "name": "python3"
  },
  "language_info": {
   "codemirror_mode": {
    "name": "ipython",
    "version": 3
   },
   "file_extension": ".py",
   "mimetype": "text/x-python",
   "name": "python",
   "nbconvert_exporter": "python",
   "pygments_lexer": "ipython3",
   "version": "3.9.21"
  }
 },
 "nbformat": 4,
 "nbformat_minor": 2
}
