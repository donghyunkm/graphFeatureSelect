{
 "cells": [
  {
   "cell_type": "markdown",
   "metadata": {},
   "source": [
    "Simulation dataset with 2 classes clustered together. The 2 classes are in separate clusters.\n",
    "Testing if a GNN can accurately predict class based on xyz coordinates only. \n",
    "1.0 validation accuracy!\n",
    "\n",
    "problem posed in Rohan’s illustration can be solved with just xyz as input?"
   ]
  },
  {
   "cell_type": "code",
   "execution_count": 2,
   "metadata": {},
   "outputs": [],
   "source": [
    "import matplotlib.pyplot as plt\n",
    "import numpy as np\n",
    "import pandas as pd\n",
    "import scanpy as sc\n",
    "import seaborn as sns\n",
    "import torch\n",
    "import torch.nn as nn\n",
    "import torch.nn.functional as F\n",
    "from graphFeatureSelect.utils import get_adata\n",
    "from sklearn.linear_model import LogisticRegression, LogisticRegressionCV\n",
    "from sklearn.metrics import accuracy_score\n",
    "from sklearn.model_selection import StratifiedKFold, train_test_split\n",
    "from sklearn.neighbors import kneighbors_graph\n",
    "from sklearn.pipeline import make_pipeline\n",
    "from sklearn.preprocessing import StandardScaler\n",
    "from torch_geometric.data import Data\n",
    "from torch_geometric.nn import GATv2Conv, GCNConv\n",
    "from torch_geometric.utils import add_remaining_self_loops\n",
    "\n",
    "custom_params = {\"axes.spines.right\": False, \"axes.spines.top\": False}\n",
    "sns.set_theme(style=\"ticks\", font_scale=0.5, rc=custom_params)\n",
    "%config InlineBackend.figure_format=\"retina\""
   ]
  },
  {
   "cell_type": "code",
   "execution_count": 97,
   "metadata": {},
   "outputs": [],
   "source": [
    "def train_gnn(model, optimizer, data, criterion):\n",
    "    model.train()\n",
    "    optimizer.zero_grad()  # Clear gradients.\n",
    "    out = model(data.x, data.edge_index)  # Perform a single forward pass.\n",
    "    loss = criterion(\n",
    "        out[data.train_mask], data.y[data.train_mask]\n",
    "    )  # Compute the loss solely based on the training nodes.\n",
    "    loss.backward()  # Derive gradients.\n",
    "    optimizer.step()  # Update parameters based on gradients.\n",
    "    return loss\n",
    "\n",
    "\n",
    "def val_gnn(model, data):\n",
    "    model.eval()\n",
    "    out = model(data.x, data.edge_index)\n",
    "    pred = out.argmax(dim=1)  # Use the class with highest probability.\n",
    "    val_correct = pred[data.val_mask] == data.y[data.val_mask]  # Check against ground-truth labels.\n",
    "    val_acc = int(val_correct.sum()) / int(data.val_mask.sum())  # Derive ratio of correct predictions.\n",
    "    return val_acc\n",
    "\n",
    "\n",
    "def test_gnn(model, data):\n",
    "    model.eval()\n",
    "    out = model(data.x, data.edge_index)\n",
    "    pred = out.argmax(dim=1)  # Use the class with highest probability.\n",
    "    ground_truth = data.y.argmax(dim=1)\n",
    "    test_correct = pred[data.test_mask] == ground_truth[data.test_mask]  # Check against ground-truth labels.\n",
    "    test_acc = int(test_correct.sum()) / int(data.test_mask.sum())  # Derive ratio of correct predictions.\n",
    "    return test_acc\n",
    "\n",
    "\n",
    "def training_loop(model, data, total_epoch):\n",
    "    optimizer_self = torch.optim.Adam(model.parameters(), lr=0.01, weight_decay=5e-4)\n",
    "    criterion = torch.nn.CrossEntropyLoss()\n",
    "    loss_list = []\n",
    "    for epoch in range(1, total_epoch + 1):\n",
    "        loss = train_gnn(model, optimizer_self, data, criterion)\n",
    "        val_acc = test_gnn(model, data)\n",
    "        if epoch % 200 == 0:\n",
    "            print(f\"Epoch: {epoch:03d}, Loss: {loss:.4f}, Val acc: {val_acc:.4f}\")\n",
    "        loss_list.append(loss.detach().numpy())\n",
    "    model.eval()\n",
    "    val_acc = test_gnn(model, data)\n",
    "    print(f\"Model accuracy: {val_acc:.4f}\")\n",
    "    return val_acc, loss_list"
   ]
  },
  {
   "cell_type": "code",
   "execution_count": 98,
   "metadata": {},
   "outputs": [],
   "source": [
    "# residual connection version 3\n",
    "# simplest\n",
    "class GAT3(torch.nn.Module):\n",
    "    def __init__(self, hidden_channels, num_features, num_classes):\n",
    "        super().__init__()\n",
    "        torch.manual_seed(1234567)\n",
    "        self.hidden_channels = hidden_channels\n",
    "        self.conv1 = GATv2Conv(num_features, hidden_channels, heads=8, concat=False)\n",
    "        self.conv2 = GATv2Conv(hidden_channels, num_classes, heads=8, concat=False)\n",
    "        self.lin1 = nn.Linear(num_features, num_classes)\n",
    "\n",
    "        self.dropout = nn.Dropout(0.25)\n",
    "\n",
    "    def forward(self, x, edge_index):\n",
    "        residual1 = self.lin1(x)\n",
    "\n",
    "        out = self.conv1(x, edge_index)\n",
    "        out = out.relu()\n",
    "        out = self.dropout(out)\n",
    "\n",
    "        out = self.conv2(out, edge_index)\n",
    "        out = out + residual1\n",
    "\n",
    "        return out"
   ]
  },
  {
   "cell_type": "code",
   "execution_count": 99,
   "metadata": {},
   "outputs": [],
   "source": [
    "type1 = torch.FloatTensor(10000, 2).uniform_(0, 2)\n",
    "type2 = torch.FloatTensor(10000, 2).uniform_(3, 5)"
   ]
  },
  {
   "cell_type": "code",
   "execution_count": 100,
   "metadata": {},
   "outputs": [],
   "source": [
    "data = torch.concat([type1, type2], dim=0)"
   ]
  },
  {
   "cell_type": "code",
   "execution_count": 101,
   "metadata": {},
   "outputs": [],
   "source": [
    "labels0 = torch.concat([torch.full((10000, 1), 0), torch.full((10000, 1), 1)], dim=0)\n",
    "labels = F.one_hot(labels0, num_classes=2)\n",
    "labels = torch.squeeze(labels)\n",
    "labels = labels.type(torch.float32)"
   ]
  },
  {
   "cell_type": "code",
   "execution_count": 102,
   "metadata": {},
   "outputs": [],
   "source": [
    "A = kneighbors_graph(data, n_neighbors=10, mode=\"distance\", include_self=False)\n",
    "edgelist_knn = torch.tensor(list(zip(A.tocoo().row, A.tocoo().col)))\n",
    "edgelist_knn = add_remaining_self_loops(edgelist_knn.T)[0]"
   ]
  },
  {
   "cell_type": "code",
   "execution_count": 103,
   "metadata": {},
   "outputs": [],
   "source": [
    "skf = StratifiedKFold(n_splits=5, shuffle=True, random_state=42)\n",
    "\n",
    "train_idx, test_idx = next(skf.split(np.arange(data.shape[0]), labels0))\n",
    "\n",
    "train_mask = np.zeros(data.shape[0], dtype=bool)\n",
    "train_mask[train_idx] = True\n",
    "train_mask = torch.tensor(train_mask, dtype=torch.bool)\n",
    "\n",
    "test_mask = np.zeros(data.shape[0], dtype=bool)\n",
    "test_mask[test_idx] = True\n",
    "test_mask = torch.tensor(test_mask, dtype=torch.bool)"
   ]
  },
  {
   "cell_type": "code",
   "execution_count": 104,
   "metadata": {},
   "outputs": [],
   "source": [
    "data_knn_xyz = Data(x=data, edge_index=edgelist_knn, y=labels, train_mask=train_mask, test_mask=test_mask)"
   ]
  },
  {
   "cell_type": "code",
   "execution_count": 105,
   "metadata": {},
   "outputs": [],
   "source": [
    "GAT3_knn = GAT3(\n",
    "    hidden_channels=32, num_features=data_knn_xyz.x.shape[1], num_classes=torch.unique(data_knn_xyz.y).size()[0]\n",
    ")"
   ]
  },
  {
   "cell_type": "code",
   "execution_count": 106,
   "metadata": {},
   "outputs": [
    {
     "name": "stdout",
     "output_type": "stream",
     "text": [
      "Epoch: 200, Loss: 0.0037, Val acc: 1.0000\n",
      "Epoch: 400, Loss: 0.0031, Val acc: 1.0000\n",
      "Epoch: 600, Loss: 0.0028, Val acc: 1.0000\n",
      "Epoch: 800, Loss: 0.0026, Val acc: 1.0000\n",
      "Epoch: 1000, Loss: 0.0026, Val acc: 1.0000\n",
      "Model accuracy: 1.0000\n"
     ]
    },
    {
     "data": {
      "text/plain": [
       "[<matplotlib.lines.Line2D at 0x7f6936f0abc0>]"
      ]
     },
     "execution_count": 106,
     "metadata": {},
     "output_type": "execute_result"
    },
    {
     "data": {
      "image/png": "[encoded data removed]",
      "text/plain": [
       "<Figure size 640x480 with 1 Axes>"
      ]
     },
     "metadata": {
      "image/png": {
       "height": 410,
       "width": 541
      }
     },
     "output_type": "display_data"
    }
   ],
   "source": [
    "# GAT3 KNN with xyz as input on simulation data\n",
    "val_acc, loss_list = training_loop(GAT3_knn, data_knn_xyz, 1000)\n",
    "plt.plot(loss_list)"
   ]
  },
  {
   "cell_type": "code",
   "execution_count": null,
   "metadata": {},
   "outputs": [],
   "source": []
  },
  {
   "cell_type": "code",
   "execution_count": null,
   "metadata": {},
   "outputs": [],
   "source": []
  }
 ],
 "metadata": {
  "kernelspec": {
   "display_name": "allen",
   "language": "python",
   "name": "python3"
  },
  "language_info": {
   "codemirror_mode": {
    "name": "ipython",
    "version": 3
   },
   "file_extension": ".py",
   "mimetype": "text/x-python",
   "name": "python",
   "nbconvert_exporter": "python",
   "pygments_lexer": "ipython3",
   "version": "3.10.14"
  }
 },
 "nbformat": 4,
 "nbformat_minor": 2
}
