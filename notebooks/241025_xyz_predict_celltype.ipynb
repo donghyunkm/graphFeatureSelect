{
 "cells": [
  {
   "cell_type": "markdown",
   "metadata": {},
   "source": [
    "Code to test if ccf coordinates can predict cell types -- not the highest accuracy (around 0.35)"
   ]
  },
  {
   "cell_type": "code",
   "execution_count": 5,
   "metadata": {},
   "outputs": [],
   "source": [
    "from graphFeatureSelect.utils import get_adata\n",
    "import scanpy as sc\n",
    "import numpy as np"
   ]
  },
  {
   "cell_type": "code",
   "execution_count": 6,
   "metadata": {},
   "outputs": [],
   "source": [
    "adata = get_adata('../data/VISp_nhood.h5ad')"
   ]
  },
  {
   "cell_type": "code",
   "execution_count": 7,
   "metadata": {},
   "outputs": [
    {
     "data": {
      "text/plain": [
       "AnnData object with n_obs × n_vars = 61884 × 550\n",
       "    obs: 'cell_label', 'brain_section_label', 'cluster_alias', 'average_correlation_score', 'feature_matrix_label', 'donor_label', 'donor_genotype', 'donor_sex', 'x_section', 'y_section', 'z_section', 'neurotransmitter', 'class', 'subclass', 'supertype', 'cluster', 'neurotransmitter_color', 'class_color', 'subclass_color', 'supertype_color', 'cluster_color', 'x_reconstructed', 'y_reconstructed', 'z_reconstructed', 'parcellation_index', 'x_ccf', 'y_ccf', 'z_ccf', 'parcellation_organ', 'parcellation_category', 'parcellation_division', 'parcellation_structure', 'parcellation_substructure', 'parcellation_organ_color', 'parcellation_category_color', 'parcellation_division_color', 'parcellation_structure_color', 'parcellation_substructure_color'\n",
       "    var: 'gene_symbol', 'transcript_identifier'\n",
       "    uns: 'accessed_on', 'neighbors', 'pca', 'src'\n",
       "    obsm: 'X_pca', 'ccf'\n",
       "    varm: 'PCs'\n",
       "    obsp: 'connectivities', 'distances'"
      ]
     },
     "execution_count": 7,
     "metadata": {},
     "output_type": "execute_result"
    }
   ],
   "source": [
    "adata"
   ]
  },
  {
   "cell_type": "code",
   "execution_count": 8,
   "metadata": {},
   "outputs": [],
   "source": [
    "adata.obsm[\"section\"] = np.concatenate(\n",
    "    (\n",
    "        np.expand_dims(np.array(adata.obs[\"x_section\"]), axis=1),\n",
    "        np.expand_dims(np.array(adata.obs[\"y_section\"]), axis=1),\n",
    "        np.expand_dims(np.array(adata.obs[\"z_section\"]), axis=1),\n",
    "    ),\n",
    "    axis=1,\n",
    ")\n"
   ]
  },
  {
   "cell_type": "code",
   "execution_count": 9,
   "metadata": {},
   "outputs": [],
   "source": [
    "adata.obsm[\"reconstructed\"] = np.concatenate(\n",
    "    (\n",
    "        np.expand_dims(np.array(adata.obs[\"x_reconstructed\"]), axis=1),\n",
    "        np.expand_dims(np.array(adata.obs[\"y_reconstructed\"]), axis=1),\n",
    "        np.expand_dims(np.array(adata.obs[\"z_reconstructed\"]), axis=1),\n",
    "    ),\n",
    "    axis=1,\n",
    ")\n"
   ]
  },
  {
   "cell_type": "code",
   "execution_count": 10,
   "metadata": {},
   "outputs": [
    {
     "data": {
      "text/plain": [
       "(61884, 550)"
      ]
     },
     "execution_count": 10,
     "metadata": {},
     "output_type": "execute_result"
    }
   ],
   "source": [
    "adata.shape"
   ]
  },
  {
   "cell_type": "code",
   "execution_count": 11,
   "metadata": {},
   "outputs": [
    {
     "name": "stderr",
     "output_type": "stream",
     "text": [
      "/data/users1/dkim195/miniconda3/envs/allen/lib/python3.10/site-packages/sklearn/model_selection/_split.py:776: UserWarning: The least populated class in y has only 1 members, which is less than n_splits=5.\n",
      "  warnings.warn(\n"
     ]
    }
   ],
   "source": [
    "from sklearn.model_selection import StratifiedKFold\n",
    "\n",
    "skf = StratifiedKFold(n_splits=5, shuffle=True, random_state=42)\n",
    "\n",
    "train_idx, test_idx = next(skf.split(np.arange(adata.shape[0]), adata.obs['supertype'].values))\n",
    "\n",
    "train_mask = np.zeros(adata.shape[0], dtype=bool)\n",
    "train_mask[train_idx] = True\n",
    "# train_mask = torch.tensor(train_mask, dtype=torch.bool)\n",
    "\n",
    "test_mask = np.zeros(adata.shape[0], dtype=bool)\n",
    "test_mask[test_idx] = True\n",
    "# test_mask = torch.tensor(test_mask, dtype=torch.bool)\n"
   ]
  },
  {
   "cell_type": "code",
   "execution_count": 20,
   "metadata": {},
   "outputs": [
    {
     "data": {
      "text/plain": [
       "12377"
      ]
     },
     "execution_count": 20,
     "metadata": {},
     "output_type": "execute_result"
    }
   ],
   "source": [
    "len(adata.obs['supertype'][test_mask])"
   ]
  },
  {
   "cell_type": "code",
   "execution_count": 21,
   "metadata": {},
   "outputs": [
    {
     "name": "stderr",
     "output_type": "stream",
     "text": [
      "/tmp/ipykernel_1137475/701925971.py:1: FutureWarning: Series.__getitem__ treating keys as positions is deprecated. In a future version, integer keys will always be treated as labels (consistent with DataFrame behavior). To access a value by position, use `ser.iloc[pos]`\n",
      "  int(adata.obs['supertype'][test_mask].value_counts()[0]) / len(adata.obs['supertype'][test_mask])\n"
     ]
    },
    {
     "data": {
      "text/plain": [
       "0.14737012200048477"
      ]
     },
     "execution_count": 21,
     "metadata": {},
     "output_type": "execute_result"
    }
   ],
   "source": [
    "int(adata.obs['supertype'][test_mask].value_counts()[0]) / len(adata.obs['supertype'][test_mask])"
   ]
  },
  {
   "cell_type": "code",
   "execution_count": 22,
   "metadata": {},
   "outputs": [
    {
     "name": "stdout",
     "output_type": "stream",
     "text": [
      "0.3609113678597398\n"
     ]
    },
    {
     "name": "stderr",
     "output_type": "stream",
     "text": [
      "/data/users1/dkim195/miniconda3/envs/allen/lib/python3.10/site-packages/sklearn/neural_network/_multilayer_perceptron.py:690: ConvergenceWarning: Stochastic Optimizer: Maximum iterations (200) reached and the optimization hasn't converged yet.\n",
      "  warnings.warn(\n"
     ]
    }
   ],
   "source": [
    "#ccf\n",
    "from sklearn.neural_network import MLPClassifier\n",
    "\n",
    "clf = MLPClassifier()\n",
    "clf.fit(adata.obsm['ccf'][train_mask], adata.obs['supertype'][train_mask])\n",
    "print(clf.score(adata.obsm['ccf'][test_mask], adata.obs['supertype'][test_mask]))"
   ]
  },
  {
   "cell_type": "code",
   "execution_count": 23,
   "metadata": {},
   "outputs": [],
   "source": [
    "from sklearn.metrics import accuracy_score, classification_report\n",
    "from sklearn.dummy import DummyClassifier\n",
    "\n",
    "strategies = [\"prior\", \"stratified\", \"uniform\"]\n",
    "test_scores = {}\n",
    "for s in strategies:\n",
    "    dclf = DummyClassifier(strategy=s, random_state=0)\n",
    "    dclf.fit(adata.obsm['ccf'][train_mask], adata.obs['supertype'][train_mask])\n",
    "    score = dclf.score(adata.obsm['ccf'][test_mask], adata.obs['supertype'][test_mask])\n",
    "    test_scores[s] = np.round(score, 2)\n"
   ]
  },
  {
   "cell_type": "code",
   "execution_count": 24,
   "metadata": {},
   "outputs": [
    {
     "name": "stdout",
     "output_type": "stream",
     "text": [
      "{'prior': np.float64(0.15), 'stratified': np.float64(0.07), 'uniform': np.float64(0.01)}\n"
     ]
    }
   ],
   "source": [
    "print(test_scores)"
   ]
  },
  {
   "cell_type": "code",
   "execution_count": 46,
   "metadata": {},
   "outputs": [
    {
     "name": "stdout",
     "output_type": "stream",
     "text": [
      "0.3168780803102529\n"
     ]
    },
    {
     "name": "stderr",
     "output_type": "stream",
     "text": [
      "/data/users1/dkim195/miniconda3/envs/allen/lib/python3.10/site-packages/sklearn/neural_network/_multilayer_perceptron.py:690: ConvergenceWarning: Stochastic Optimizer: Maximum iterations (200) reached and the optimization hasn't converged yet.\n",
      "  warnings.warn(\n"
     ]
    }
   ],
   "source": [
    "# section\n",
    "clf = MLPClassifier()\n",
    "clf.fit(adata.obsm['section'][train_mask], adata.obs['supertype'][train_mask])\n",
    "print(clf.score(adata.obsm['section'][test_mask], adata.obs['supertype'][test_mask]))"
   ]
  },
  {
   "cell_type": "code",
   "execution_count": 47,
   "metadata": {},
   "outputs": [
    {
     "name": "stdout",
     "output_type": "stream",
     "text": [
      "0.36276965338935124\n"
     ]
    },
    {
     "name": "stderr",
     "output_type": "stream",
     "text": [
      "/data/users1/dkim195/miniconda3/envs/allen/lib/python3.10/site-packages/sklearn/neural_network/_multilayer_perceptron.py:690: ConvergenceWarning: Stochastic Optimizer: Maximum iterations (200) reached and the optimization hasn't converged yet.\n",
      "  warnings.warn(\n"
     ]
    }
   ],
   "source": [
    "# reconstructed\n",
    "clf = MLPClassifier()\n",
    "clf.fit(adata.obsm['reconstructed'][train_mask], adata.obs['supertype'][train_mask])\n",
    "print(clf.score(adata.obsm['reconstructed'][test_mask], adata.obs['supertype'][test_mask]))"
   ]
  },
  {
   "cell_type": "code",
   "execution_count": 56,
   "metadata": {},
   "outputs": [
    {
     "data": {
      "text/plain": [
       "class\n",
       "01 IT-ET Glut        34168\n",
       "02 NP-CT-L6b Glut     8821\n",
       "30 Astro-Epen         5307\n",
       "33 Vascular           5169\n",
       "07 CTX-MGE GABA       3597\n",
       "31 OPC-Oligo          2664\n",
       "06 CTX-CGE GABA       1363\n",
       "34 Immune              756\n",
       "08 CNU-MGE GABA         28\n",
       "05 OB-IMN GABA           4\n",
       "03 OB-CR Glut            3\n",
       "29 CB Glut               3\n",
       "28 CB GABA               1\n",
       "Name: count, dtype: int64"
      ]
     },
     "execution_count": 56,
     "metadata": {},
     "output_type": "execute_result"
    }
   ],
   "source": [
    "adata.obs['class'].value_counts()"
   ]
  },
  {
   "cell_type": "code",
   "execution_count": 54,
   "metadata": {},
   "outputs": [
    {
     "data": {
      "text/plain": [
       "array([[9.8129949 , 1.19931551, 8.08794042],\n",
       "       [9.09990644, 1.34543557, 2.80519387],\n",
       "       [8.57365051, 0.82416691, 7.7414858 ],\n",
       "       ...,\n",
       "       [9.94499592, 1.95682617, 9.03688049],\n",
       "       [9.45167514, 1.45998209, 2.8503031 ],\n",
       "       [8.7625237 , 0.68943085, 7.54256732]])"
      ]
     },
     "execution_count": 54,
     "metadata": {},
     "output_type": "execute_result"
    }
   ],
   "source": [
    "adata.obsm['ccf'][adata.obs['supertype'] == '0028 L4/5 IT CTX Glut_6']"
   ]
  },
  {
   "cell_type": "code",
   "execution_count": 55,
   "metadata": {},
   "outputs": [
    {
     "data": {
      "text/plain": [
       "array([[9.04415392, 1.89627485, 2.81099339],\n",
       "       [9.23744584, 1.54314281, 8.17194066],\n",
       "       [8.35460389, 1.27536708, 8.00697448],\n",
       "       ...,\n",
       "       [8.38780223, 1.34206439, 3.20357213],\n",
       "       [9.44565677, 1.65248622, 3.31083417],\n",
       "       [9.79159104, 1.72164381, 3.00037199]])"
      ]
     },
     "execution_count": 55,
     "metadata": {},
     "output_type": "execute_result"
    }
   ],
   "source": [
    "adata.obsm['ccf'][adata.obs['supertype'] == '0114 L6 CT CTX Glut_1']"
   ]
  },
  {
   "cell_type": "code",
   "execution_count": null,
   "metadata": {},
   "outputs": [],
   "source": []
  }
 ],
 "metadata": {
  "kernelspec": {
   "display_name": "allen",
   "language": "python",
   "name": "python3"
  },
  "language_info": {
   "codemirror_mode": {
    "name": "ipython",
    "version": 3
   },
   "file_extension": ".py",
   "mimetype": "text/x-python",
   "name": "python",
   "nbconvert_exporter": "python",
   "pygments_lexer": "ipython3",
   "version": "3.10.14"
  }
 },
 "nbformat": 4,
 "nbformat_minor": 2
}
